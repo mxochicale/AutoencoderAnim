{
 "cells": [
  {
   "cell_type": "markdown",
   "metadata": {},
   "source": [
    "# Notebook for training autoencoder models"
   ]
  },
  {
   "cell_type": "markdown",
   "metadata": {},
   "source": [
    "Add your save directory name here."
   ]
  },
  {
   "cell_type": "code",
   "execution_count": null,
   "metadata": {},
   "outputs": [],
   "source": [
    "save_dir = 'SavedModels/CoordConv64' # put your own save dir name here"
   ]
  },
  {
   "cell_type": "code",
   "execution_count": 1,
   "metadata": {},
   "outputs": [],
   "source": [
    "%load_ext autoreload\n",
    "%autoreload 2"
   ]
  },
  {
   "cell_type": "code",
   "execution_count": 2,
   "metadata": {},
   "outputs": [],
   "source": [
    "import torch\n",
    "from torch import nn\n",
    "from torch import optim\n",
    "import torch.functional as F"
   ]
  },
  {
   "cell_type": "code",
   "execution_count": 3,
   "metadata": {},
   "outputs": [],
   "source": [
    "DEVICE = torch.device('cuda')\n",
    "torch.backends.cudnn.benchmark = True"
   ]
  },
  {
   "cell_type": "code",
   "execution_count": 4,
   "metadata": {},
   "outputs": [],
   "source": [
    "from pylab import *"
   ]
  },
  {
   "cell_type": "code",
   "execution_count": 5,
   "metadata": {},
   "outputs": [],
   "source": [
    "rcParams['figure.figsize']=18,7\n",
    "rcParams['font.size']=15\n",
    "rcParams['axes.grid']=True\n",
    "\n",
    "style.use('dark_background')"
   ]
  },
  {
   "cell_type": "code",
   "execution_count": 6,
   "metadata": {},
   "outputs": [],
   "source": [
    "from lines_curves_dataset import *\n",
    "from modules import *\n",
    "from autoenc_models import *\n",
    "from pytorch_utils.train_utils import *\n",
    "from pytorch_utils.updaters import *"
   ]
  },
  {
   "cell_type": "markdown",
   "metadata": {},
   "source": [
    "## Get a dataset to test modules"
   ]
  },
  {
   "cell_type": "code",
   "execution_count": 7,
   "metadata": {},
   "outputs": [],
   "source": [
    "from torchvision.transforms import *"
   ]
  },
  {
   "cell_type": "code",
   "execution_count": 8,
   "metadata": {},
   "outputs": [],
   "source": [
    "batch_size = 64\n",
    "batches_per_epoch = 200\n",
    "validation_batches = batches_per_epoch//10"
   ]
  },
  {
   "cell_type": "code",
   "execution_count": 9,
   "metadata": {},
   "outputs": [],
   "source": [
    "dataset_config = {\n",
    "    'nlines_range':(0, 3), \n",
    "    'ncurves_range':(1, 4), \n",
    "    'nellipses_range':(0, 3), \n",
    "    'x_range':(0, 64), \n",
    "    'y_range':(0, 64), \n",
    "    'dilation_size_range':(3, 6), \n",
    "    'img_size':(64, 64), \n",
    "    'blur_sigma':0.7,\n",
    "}"
   ]
  },
  {
   "cell_type": "code",
   "execution_count": 10,
   "metadata": {},
   "outputs": [],
   "source": [
    "transform = Normalize([0.5],[0.5])"
   ]
  },
  {
   "cell_type": "code",
   "execution_count": 11,
   "metadata": {},
   "outputs": [],
   "source": [
    "transform = None"
   ]
  },
  {
   "cell_type": "code",
   "execution_count": 12,
   "metadata": {},
   "outputs": [],
   "source": [
    "dset = LinesCurvesDataset(imgs_per_epoch=batch_size*batches_per_epoch, \n",
    "                          **dataset_config, \n",
    "                          device=DEVICE,\n",
    "                          transform=transform,)"
   ]
  },
  {
   "cell_type": "code",
   "execution_count": 13,
   "metadata": {},
   "outputs": [],
   "source": [
    "val_dset = LinesCurvesDataset(imgs_per_epoch=batch_size*validation_batches, \n",
    "                          **dataset_config, \n",
    "                          device=DEVICE,\n",
    "                          transform=transform,)"
   ]
  },
  {
   "cell_type": "code",
   "execution_count": 14,
   "metadata": {},
   "outputs": [],
   "source": [
    "train_loader = DataLoader(dset, batch_size = batch_size, shuffle=True)\n",
    "val_loader = DataLoader(val_dset, batch_size = batch_size, shuffle=True)\n",
    "loader = iter(train_loader)"
   ]
  },
  {
   "cell_type": "code",
   "execution_count": 15,
   "metadata": {},
   "outputs": [
    {
     "name": "stdout",
     "output_type": "stream",
     "text": [
      "torch.Size([1, 64, 64]) 1.0 0.0 0.33467864990234375\n"
     ]
    },
    {
     "data": {
      "text/plain": [
       "<matplotlib.image.AxesImage at 0x15c04730438>"
      ]
     },
     "execution_count": 15,
     "metadata": {},
     "output_type": "execute_result"
    },
    {
     "data": {
      "image/png": "[encoded data removed]",
      "text/plain": [
       "<Figure size 1296x504 with 1 Axes>"
      ]
     },
     "metadata": {},
     "output_type": "display_data"
    }
   ],
   "source": [
    "sample_inp = dset[0]\n",
    "print(sample_inp.shape, sample_inp.max().item(), sample_inp.min().item(), sample_inp.mean().item())\n",
    "axis('off')\n",
    "imshow(sample_inp.cpu().numpy().transpose([1,2,0]).squeeze(), vmin=0, vmax=1)"
   ]
  },
  {
   "cell_type": "markdown",
   "metadata": {},
   "source": [
    "# Instantiate the models"
   ]
  },
  {
   "cell_type": "markdown",
   "metadata": {},
   "source": [
    "## coord conv with 64 hidden size"
   ]
  },
  {
   "cell_type": "code",
   "execution_count": 16,
   "metadata": {},
   "outputs": [
    {
     "name": "stdout",
     "output_type": "stream",
     "text": [
      "Encoder has 944994 params\n",
      "Decoder has 878428 params\n"
     ]
    }
   ],
   "source": [
    "    encoder, decoder, autoencoder = coordconv_conv64(DEVICE)"
   ]
  },
  {
   "cell_type": "markdown",
   "metadata": {},
   "source": [
    "# Functions for training"
   ]
  },
  {
   "cell_type": "code",
   "execution_count": 17,
   "metadata": {},
   "outputs": [],
   "source": [
    "l1_lambda = 0.000 # for l1 activity regularization of encodings"
   ]
  },
  {
   "cell_type": "code",
   "execution_count": 18,
   "metadata": {},
   "outputs": [],
   "source": [
    "def trainOnBatch(model,batch,optimizer):\n",
    "    global l1_lambda\n",
    "    \n",
    "    # batch is tuple containing (tensor of images, tensor of labels)\n",
    "    outputs, embeddings = model(batch, return_embedding=True) # forward pass\n",
    "    \n",
    "    # compute loss\n",
    "    criterion = nn.MSELoss()\n",
    "    loss = criterion(outputs,batch)\n",
    "\n",
    "    l1_penalty = l1_lambda*torch.abs(embeddings).sum()\n",
    "    \n",
    "#     print(f\"loss = {loss}, l1_penalty = {l1_penalty}\")\n",
    "    \n",
    "    loss += l1_penalty\n",
    "    \n",
    "    # backward pass and weight update\n",
    "    optimizer.zero_grad()\n",
    "    loss.backward()\n",
    "    optimizer.step()\n",
    "    \n",
    "    # compute and return metrics\n",
    "    loss = loss.detach().cpu().numpy()\n",
    "    return loss,"
   ]
  },
  {
   "cell_type": "code",
   "execution_count": 19,
   "metadata": {},
   "outputs": [],
   "source": [
    "def callback(model, val_loader):\n",
    "    with torch.no_grad(): # dont compute gradients\n",
    "        criterion = nn.MSELoss()\n",
    "        \n",
    "        model = model.eval() # eval mode\n",
    "        \n",
    "        batches = len(val_loader)\n",
    "        loss=0\n",
    "        for batch in val_loader:\n",
    "            outputs = model(batch)\n",
    "            loss += criterion(outputs,batch)\n",
    "        \n",
    "        # find average loss over whole vaildation set\n",
    "        loss/= batches\n",
    "        \n",
    "        model = model.train() # go back to train mode\n",
    "        \n",
    "        # return metrics\n",
    "        return loss.cpu().numpy(),"
   ]
  },
  {
   "cell_type": "markdown",
   "metadata": {},
   "source": [
    "# Running the train loop"
   ]
  },
  {
   "cell_type": "code",
   "execution_count": 20,
   "metadata": {},
   "outputs": [],
   "source": [
    "trainer = Trainer(autoencoder, \n",
    "                  trainOnBatch, \n",
    "                  callback=callback,\n",
    "                  save_dir=save_dir)"
   ]
  },
  {
   "cell_type": "code",
   "execution_count": 21,
   "metadata": {},
   "outputs": [],
   "source": [
    "trainer.setup_metrics(batch_metric_names=['loss'], # trainOnBatch returns training loss\n",
    "                      callback_metric_names=['val_loss'], # callback returns validation loss\n",
    "                      batch_metric_updaters=[averager], # average the batch metrics over the epoch\n",
    "                      save_name_metrics=['val_loss'], # Use the validation loss in checkpoint save names\n",
    "                      fig_grid=(1,1), # 1 row, 1 cols\n",
    "                      plot_grouping=[\n",
    "                          ['loss','val_loss'], # first subplot for losses\n",
    "                      ])"
   ]
  },
  {
   "cell_type": "code",
   "execution_count": 22,
   "metadata": {},
   "outputs": [],
   "source": [
    "optimizer = optim.Adam(autoencoder.parameters(), lr=0.01, weight_decay=0.00)"
   ]
  },
  {
   "cell_type": "code",
   "execution_count": 23,
   "metadata": {},
   "outputs": [],
   "source": [
    "autoencoder.to(DEVICE).train();"
   ]
  },
  {
   "cell_type": "markdown",
   "metadata": {},
   "source": [
    "## This cell starts the train loop"
   ]
  },
  {
   "cell_type": "code",
   "execution_count": null,
   "metadata": {},
   "outputs": [],
   "source": [
    "metrics = trainer.loop(epochs=1000, \n",
    "                       train_loader=train_loader,\n",
    "                       optimizer=optimizer, \n",
    "                       val_loader=val_loader,\n",
    "                       update_interval=1,\n",
    "                       old_metrics=None)"
   ]
  },
  {
   "cell_type": "code",
   "execution_count": null,
   "metadata": {},
   "outputs": [],
   "source": []
  }
 ],
 "metadata": {
  "kernelspec": {
   "display_name": "Python [default]",
   "language": "python",
   "name": "python3"
  },
  "language_info": {
   "codemirror_mode": {
    "name": "ipython",
    "version": 3
   },
   "file_extension": ".py",
   "mimetype": "text/x-python",
   "name": "python",
   "nbconvert_exporter": "python",
   "pygments_lexer": "ipython3",
   "version": "3.6.4"
  }
 },
 "nbformat": 4,
 "nbformat_minor": 2
}
