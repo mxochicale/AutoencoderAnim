{
 "cells": [
  {
   "cell_type": "markdown",
   "metadata": {},
   "source": [
    "# Modules for building the autoencoder models"
   ]
  },
  {
   "cell_type": "code",
   "execution_count": 1,
   "metadata": {},
   "outputs": [],
   "source": [
    "import writefile_run\n",
    "models_file = 'modules.py'"
   ]
  },
  {
   "cell_type": "code",
   "execution_count": 2,
   "metadata": {},
   "outputs": [],
   "source": [
    "%%writefile_run $models_file\n",
    "\n",
    "import torch\n",
    "from torch import nn\n",
    "from torch import optim\n",
    "import torch.functional as F\n",
    "import numpy as np"
   ]
  },
  {
   "cell_type": "code",
   "execution_count": 3,
   "metadata": {},
   "outputs": [],
   "source": [
    "DEVICE = torch.device('cuda')\n",
    "torch.backends.cudnn.benchmark = True"
   ]
  },
  {
   "cell_type": "code",
   "execution_count": 4,
   "metadata": {},
   "outputs": [],
   "source": [
    "from pylab import *"
   ]
  },
  {
   "cell_type": "code",
   "execution_count": 5,
   "metadata": {},
   "outputs": [],
   "source": [
    "rcParams['figure.figsize']=18,7\n",
    "rcParams['font.size']=15\n",
    "rcParams['axes.grid']=True\n",
    "\n",
    "style.use('dark_background')"
   ]
  },
  {
   "cell_type": "code",
   "execution_count": 6,
   "metadata": {},
   "outputs": [],
   "source": [
    "from lines_curves_dataset import *"
   ]
  },
  {
   "cell_type": "markdown",
   "metadata": {},
   "source": [
    "## Get a dataset to test modules"
   ]
  },
  {
   "cell_type": "code",
   "execution_count": 7,
   "metadata": {},
   "outputs": [],
   "source": [
    "batch_size = 32\n",
    "batches_per_epoch = 1000"
   ]
  },
  {
   "cell_type": "code",
   "execution_count": 8,
   "metadata": {},
   "outputs": [],
   "source": [
    "dset = LinesCurvesDataset(imgs_per_epoch=batch_size*batches_per_epoch, \n",
    "                          nlines_range=(1, 2), \n",
    "                          ncurves_range=(0, 2), \n",
    "                          nellipses_range=(0, 2), \n",
    "                          x_range=(0, 64), \n",
    "                          y_range=(0, 64), \n",
    "                          dilation_size_range=(2, 5), \n",
    "                          img_size=(64, 64), \n",
    "                          blur_sigma=0.5, \n",
    "                          device=DEVICE)"
   ]
  },
  {
   "cell_type": "code",
   "execution_count": 9,
   "metadata": {},
   "outputs": [],
   "source": [
    "train_loader = DataLoader(dset, batch_size = batch_size, shuffle=True)\n",
    "\n",
    "\n",
    "loader = iter(train_loader)"
   ]
  },
  {
   "cell_type": "code",
   "execution_count": 10,
   "metadata": {},
   "outputs": [
    {
     "name": "stdout",
     "output_type": "stream",
     "text": [
      "torch.Size([1, 64, 64])\n"
     ]
    },
    {
     "data": {
      "text/plain": [
       "<matplotlib.image.AxesImage at 0x1fa06699358>"
      ]
     },
     "execution_count": 10,
     "metadata": {},
     "output_type": "execute_result"
    },
    {
     "data": {
      "image/png": "[encoded data removed]",
      "text/plain": [
       "<Figure size 1296x504 with 1 Axes>"
      ]
     },
     "metadata": {},
     "output_type": "display_data"
    }
   ],
   "source": [
    "sample_inp = dset[0]\n",
    "print(sample_inp.shape)\n",
    "axis('off')\n",
    "imshow(sample_inp.cpu().numpy().transpose([1,2,0]).squeeze())"
   ]
  },
  {
   "cell_type": "markdown",
   "metadata": {},
   "source": [
    "# Modules"
   ]
  },
  {
   "cell_type": "markdown",
   "metadata": {},
   "source": [
    "## Block of convs with a residual connection"
   ]
  },
  {
   "cell_type": "code",
   "execution_count": 11,
   "metadata": {},
   "outputs": [],
   "source": [
    "%%writefile_run $models_file -a\n",
    "\n",
    "\n",
    "class ConvBlock(nn.Module):\n",
    "    \"\"\"One block of convolutions with a residual connection\"\"\"\n",
    "    def __init__(self, in_channels, out_channels, kernel_size=3):\n",
    "        super().__init__()\n",
    "        \n",
    "        assert kernel_size%2==1, \"kernel_size should be odd number\"\n",
    "        \n",
    "        self.conv1 = nn.Conv2d(in_channels, out_channels, kernel_size, padding = kernel_size//2)\n",
    "        self.conv2 = nn.Conv2d(out_channels, out_channels, kernel_size, padding = kernel_size//2)\n",
    "        \n",
    "        self.bn1_1 = nn.BatchNorm2d(in_channels)\n",
    "        self.bn1_2 = nn.BatchNorm2d(out_channels)\n",
    "        \n",
    "        self.bn2_1 = nn.BatchNorm2d(out_channels)\n",
    "        self.bn2_2 = nn.BatchNorm2d(out_channels)\n",
    "        \n",
    "        self.in_channels = in_channels\n",
    "        self.out_channels = out_channels\n",
    "        \n",
    "        if self.out_channels != self.in_channels:\n",
    "            self.res_conv = nn.Conv2d(in_channels, out_channels, kernel_size=1)\n",
    "            self.res_bn = nn.BatchNorm2d(out_channels)\n",
    "        \n",
    "    def forward(self, x):\n",
    "        residual = self.bn1_1(x)\n",
    "        \n",
    "        out = self.conv1(x)\n",
    "        out = self.bn1_2(out)\n",
    "        out = nn.ReLU()(out)\n",
    "        \n",
    "        out = self.bn2_1(out)\n",
    "        out = self.conv2(out)\n",
    "        out = self.bn2_2(out)\n",
    "        \n",
    "        if self.out_channels != self.in_channels:\n",
    "            residual = self.res_conv(residual)\n",
    "            residual = self.res_bn(residual)\n",
    "        \n",
    "        out = nn.ReLU()(out+residual)\n",
    "            \n",
    "        return out"
   ]
  },
  {
   "cell_type": "code",
   "execution_count": 12,
   "metadata": {},
   "outputs": [
    {
     "name": "stdout",
     "output_type": "stream",
     "text": [
      "torch.Size([32, 1, 64, 64])\n",
      "torch.Size([32, 32, 64, 64])\n"
     ]
    }
   ],
   "source": [
    "test = nn.Sequential(\n",
    "    ConvBlock(1, 16),\n",
    "    ConvBlock(16, 32),\n",
    ").to(DEVICE)\n",
    "\n",
    "inp = next(loader)\n",
    "print(inp.shape)\n",
    "out = test(next(loader))\n",
    "print(out.shape)"
   ]
  },
  {
   "cell_type": "markdown",
   "metadata": {},
   "source": [
    "## Block of deconvs with a residual connection"
   ]
  },
  {
   "cell_type": "code",
   "execution_count": 13,
   "metadata": {},
   "outputs": [],
   "source": [
    "%%writefile_run $models_file -a\n",
    "\n",
    "\n",
    "class DeconvBlock(nn.Module):\n",
    "    \"\"\"One block of transposed convolutions with a residual connection\"\"\"\n",
    "    def __init__(self, in_channels, out_channels, kernel_size=3):\n",
    "        super().__init__()\n",
    "        \n",
    "        assert kernel_size%2==1, \"kernel_size should be odd number\"\n",
    "        \n",
    "        self.deconv1 = nn.ConvTranspose2d(in_channels, out_channels, kernel_size, padding = kernel_size//2)\n",
    "        self.deconv2 = nn.ConvTranspose2d(out_channels, out_channels, kernel_size, padding = kernel_size//2)\n",
    "        \n",
    "        self.bn1_1 = nn.BatchNorm2d(in_channels)\n",
    "        self.bn1_2 = nn.BatchNorm2d(out_channels)\n",
    "        \n",
    "        self.bn2_1 = nn.BatchNorm2d(out_channels)\n",
    "        self.bn2_2 = nn.BatchNorm2d(out_channels)\n",
    "        \n",
    "        self.in_channels = in_channels\n",
    "        self.out_channels = out_channels\n",
    "        \n",
    "        if self.out_channels != self.in_channels:\n",
    "            self.res_conv = nn.ConvTranspose2d(in_channels, out_channels, kernel_size=1)\n",
    "            self.res_bn = nn.BatchNorm2d(out_channels)\n",
    "        \n",
    "    def forward(self, x):\n",
    "        residual = self.bn1_1(x)\n",
    "        \n",
    "        out = self.deconv1(x)\n",
    "        out = self.bn1_2(out)\n",
    "        out = nn.ReLU()(out)\n",
    "        \n",
    "        out = self.bn2_1(out)\n",
    "        out = self.deconv2(out)\n",
    "        out = self.bn2_2(out)\n",
    "        \n",
    "        if self.out_channels != self.in_channels:\n",
    "            residual = self.res_conv(residual)\n",
    "            residual = self.res_bn(residual)\n",
    "        \n",
    "        out = nn.ReLU()(out+residual)\n",
    "           \n",
    "        return out"
   ]
  },
  {
   "cell_type": "code",
   "execution_count": 14,
   "metadata": {},
   "outputs": [
    {
     "name": "stdout",
     "output_type": "stream",
     "text": [
      "torch.Size([32, 1, 64, 64])\n",
      "torch.Size([32, 16, 64, 64])\n"
     ]
    }
   ],
   "source": [
    "test = nn.Sequential(\n",
    "    DeconvBlock(1, 8),\n",
    "    DeconvBlock(8, 16),\n",
    ").to(DEVICE)\n",
    "\n",
    "inp = next(loader)\n",
    "print(inp.shape)\n",
    "out = test(next(loader))\n",
    "print(out.shape)"
   ]
  },
  {
   "cell_type": "markdown",
   "metadata": {},
   "source": [
    "## A set of cascaded blocks"
   ]
  },
  {
   "cell_type": "code",
   "execution_count": 15,
   "metadata": {},
   "outputs": [],
   "source": [
    "%%writefile_run $models_file -a\n",
    "\n",
    "\n",
    "class BlockSet(nn.Module):\n",
    "    \"\"\"Cascades a set of given blocks. The first block maps in_channels to \n",
    "    out_channels, and remaining blocks map out_channels to out_channels.\"\"\"\n",
    "    def __init__(self, block, in_channels, out_channels, block_count, kernel_size=3):\n",
    "        super().__init__()\n",
    "        \n",
    "        block1 = block(in_channels, out_channels, kernel_size=kernel_size)\n",
    "        blocks = [block(out_channels, out_channels, kernel_size=kernel_size) for _ in range(block_count-1)]\n",
    "        \n",
    "        self.blocks = nn.Sequential(block1, *blocks)\n",
    "            \n",
    "    def forward(self, input):\n",
    "        out = self.blocks(input)\n",
    "        \n",
    "        return out"
   ]
  },
  {
   "cell_type": "code",
   "execution_count": 16,
   "metadata": {},
   "outputs": [
    {
     "name": "stdout",
     "output_type": "stream",
     "text": [
      "torch.Size([32, 1, 64, 64])\n",
      "torch.Size([32, 8, 64, 64])\n"
     ]
    }
   ],
   "source": [
    "convtest = BlockSet(ConvBlock, \n",
    "                in_channels=1, \n",
    "                out_channels=8, \n",
    "                block_count=2).to(DEVICE)\n",
    "\n",
    "inp = next(loader)\n",
    "out = convtest(inp)\n",
    "\n",
    "print(inp.shape)\n",
    "print(out.shape)"
   ]
  },
  {
   "cell_type": "code",
   "execution_count": 17,
   "metadata": {},
   "outputs": [
    {
     "name": "stdout",
     "output_type": "stream",
     "text": [
      "torch.Size([32, 1, 64, 64])\n",
      "torch.Size([32, 8, 64, 64])\n"
     ]
    }
   ],
   "source": [
    "deconvtest = BlockSet(DeconvBlock, \n",
    "                in_channels=1, \n",
    "                out_channels=8, \n",
    "                block_count=2).to(DEVICE)\n",
    "\n",
    "inp = next(loader)\n",
    "out = deconvtest(inp)\n",
    "print(inp.shape)\n",
    "print(out.shape)"
   ]
  },
  {
   "cell_type": "markdown",
   "metadata": {},
   "source": [
    "## A network of cascaded BlockSets"
   ]
  },
  {
   "cell_type": "code",
   "execution_count": 18,
   "metadata": {},
   "outputs": [],
   "source": [
    "%%writefile_run $models_file -a\n",
    "\n",
    "\n",
    "class BlockNet(nn.Module):\n",
    "    \"\"\"\n",
    "    Cascades multiple BlockSets to form a complete network. One BlockSet is used for each element in\n",
    "    the channel_sequence, and size scaling is done between blocks based on size_sequence. A decrease in\n",
    "    size is done using fractional max pooling, and an increase in size is done by bilinear upsampling.\n",
    "    \n",
    "    A final 1x1 block is added after all the BlockSets.\n",
    "    \"\"\"\n",
    "    def __init__(self, block, channel_sequence, size_sequence, block_count, kernel_size=3, use_block_for_last=False):\n",
    "        super().__init__()\n",
    "        \n",
    "        assert len(channel_sequence)==len(size_sequence), \"channel and size sequences should have same length\"\n",
    "        \n",
    "        old_channels, old_size = channel_sequence[0], size_sequence[0]\n",
    "        \n",
    "        layers = []\n",
    "        for channels, size in zip(channel_sequence[1:], size_sequence[1:]):\n",
    "            layers.append(BlockSet(block, \n",
    "                                   in_channels=old_channels,\n",
    "                                   out_channels=channels,\n",
    "                                   block_count=block_count,\n",
    "                                   kernel_size=kernel_size))\n",
    "            if size<old_size:\n",
    "                layers.append(nn.FractionalMaxPool2d(kernel_size=kernel_size, output_size=size))\n",
    "            elif size>old_size:\n",
    "                layers.append(nn.Upsample(size=(size,size), mode='bilinear', align_corners=True))\n",
    "            \n",
    "            old_channels, old_size = channels, size\n",
    "        \n",
    "        if use_block_for_last:\n",
    "            layers.append(block(channels, channels, kernel_size=1))\n",
    "        else:\n",
    "            layers.append(nn.Conv2d(channels, channels, kernel_size=1))\n",
    "        \n",
    "        self.layers = nn.Sequential(*layers)\n",
    "                \n",
    "            \n",
    "            \n",
    "    def forward(self, input):\n",
    "        out = self.layers(input)\n",
    "        return out"
   ]
  },
  {
   "cell_type": "code",
   "execution_count": 19,
   "metadata": {},
   "outputs": [
    {
     "name": "stdout",
     "output_type": "stream",
     "text": [
      "torch.Size([3620674])\n"
     ]
    }
   ],
   "source": [
    "encodertest = BlockNet(ConvBlock, \n",
    "                   channel_sequence=[1,64,64,128,128], \n",
    "                   size_sequence=[64,32,16,8,1], \n",
    "                   block_count=5,\n",
    "                   kernel_size=3).to(DEVICE)\n",
    "# print(encoder)\n",
    "print(nn.utils.parameters_to_vector(encodertest.parameters()).shape)\n",
    "\n",
    "# inp = next(loader)\n",
    "# encoded = encodertest(inp)\n",
    "# print(inp.shape)\n",
    "# print(encoded.shape)"
   ]
  },
  {
   "cell_type": "code",
   "execution_count": 20,
   "metadata": {},
   "outputs": [
    {
     "name": "stdout",
     "output_type": "stream",
     "text": [
      "torch.Size([3380038])\n"
     ]
    }
   ],
   "source": [
    "decodertest = BlockNet(DeconvBlock, \n",
    "                   channel_sequence=[128,128,128,64,1], \n",
    "                   size_sequence=[1,8,16,32,64], \n",
    "                   block_count=5,\n",
    "                   kernel_size=3).to(DEVICE)\n",
    "# print(encoder)\n",
    "print(nn.utils.parameters_to_vector(decodertest.parameters()).shape)\n",
    "\n",
    "# out = decodertest(encoded)\n",
    "# print(encoded.shape)\n",
    "# print(out.shape)"
   ]
  },
  {
   "cell_type": "markdown",
   "metadata": {},
   "source": [
    "## Autoencoder wrapper"
   ]
  },
  {
   "cell_type": "code",
   "execution_count": 21,
   "metadata": {},
   "outputs": [],
   "source": [
    "%%writefile_run $models_file -a\n",
    "\n",
    "\n",
    "class Autoencoder(nn.Module):\n",
    "    \"\"\"Combines an encoder and decoder into an autoencoder\n",
    "    Can supply `return_embedding` as true to get back the embedding as well\"\"\"\n",
    "    def __init__(self, encoder, decoder, output_activation=nn.LeakyReLU()):\n",
    "        super().__init__()\n",
    "        \n",
    "        self.encoder = encoder\n",
    "        self.decoder = decoder\n",
    "        self.out_act = output_activation\n",
    "        \n",
    "    def forward(self, input, return_embedding=False):\n",
    "        embedding = self.encoder(input)\n",
    "        output = self.out_act(self.decoder(embedding))\n",
    "        \n",
    "        if return_embedding:\n",
    "            return output, embedding\n",
    "        \n",
    "        return output"
   ]
  },
  {
   "cell_type": "code",
   "execution_count": 22,
   "metadata": {},
   "outputs": [],
   "source": [
    "%%writefile_run $models_file -a\n",
    "\n",
    "\n",
    "class NormalizeModule(nn.Module):\n",
    "    \"\"\"Returns (input-mean)/std\"\"\"\n",
    "    def __init__(self, mean, std):\n",
    "        super().__init__()\n",
    "        self.mean = mean\n",
    "        self.std = std\n",
    "        \n",
    "    def forward(self, input):\n",
    "        return (input-self.mean)/self.std"
   ]
  },
  {
   "cell_type": "markdown",
   "metadata": {},
   "source": [
    "# Coord Conv"
   ]
  },
  {
   "cell_type": "code",
   "execution_count": 23,
   "metadata": {},
   "outputs": [],
   "source": [
    "%%writefile_run $models_file -a\n",
    "\n",
    "\n",
    "class CoordConv(nn.Module):\n",
    "    \n",
    "    def __init__(self, in_channels, out_channels, kernel_size=3, padding=0):\n",
    "        super().__init__()\n",
    "        \n",
    "        self.conv = nn.Conv2d(in_channels+2, out_channels, kernel_size=kernel_size, padding=padding)\n",
    "        \n",
    "    def forward(self, input):\n",
    "        h = input.shape[2]\n",
    "        w = input.shape[3]\n",
    "        \n",
    "#         print(input.shape)\n",
    "        \n",
    "        i = np.linspace(-1,1,h)\n",
    "        j = np.linspace(-1,1,w)\n",
    "        \n",
    "        ii,jj = np.meshgrid(i,j)\n",
    "        \n",
    "       \n",
    "        ii = torch.tensor(ii, dtype=input.dtype).to(input.device).repeat((input.shape[0],1,1,1))\n",
    "        jj = torch.tensor(jj, dtype=input.dtype).to(input.device).repeat((input.shape[0],1,1,1))\n",
    "        \n",
    "#         print(ii.device,jj)\n",
    "        \n",
    "        inp = torch.cat([input, ii, jj], dim=1)\n",
    "        \n",
    "        out = self.conv(inp)\n",
    "        \n",
    "        return out"
   ]
  },
  {
   "cell_type": "code",
   "execution_count": 24,
   "metadata": {},
   "outputs": [
    {
     "data": {
      "text/plain": [
       "(torch.Size([1, 4, 62, 62]),\n",
       " tensor([[[[ 0.1873,  0.1699,  0.1525,  ..., -0.8383, -0.8557, -0.8731],\n",
       "           [ 0.1984,  0.1810,  0.1636,  ..., -0.8272, -0.8445, -0.8619],\n",
       "           [ 0.2095,  0.1922,  0.1748,  ..., -0.8160, -0.8334, -0.8508],\n",
       "           ...,\n",
       "           [ 0.8442,  0.8269,  0.8095,  ..., -0.1813, -0.1987, -0.2161],\n",
       "           [ 0.8554,  0.8380,  0.8206,  ..., -0.1702, -0.1876, -0.2050],\n",
       "           [ 0.8665,  0.8491,  0.8317,  ..., -0.1591, -0.1764, -0.1938]],\n",
       " \n",
       "          [[-0.6564, -0.6558, -0.6553,  ..., -0.6243, -0.6238, -0.6232],\n",
       "           [-0.6397, -0.6392, -0.6386,  ..., -0.6077, -0.6071, -0.6066],\n",
       "           [-0.6231, -0.6225, -0.6220,  ..., -0.5910, -0.5905, -0.5899],\n",
       "           ...,\n",
       "           [ 0.3255,  0.3261,  0.3266,  ...,  0.3576,  0.3582,  0.3587],\n",
       "           [ 0.3422,  0.3427,  0.3433,  ...,  0.3743,  0.3748,  0.3753],\n",
       "           [ 0.3588,  0.3594,  0.3599,  ...,  0.3909,  0.3914,  0.3920]],\n",
       " \n",
       "          [[-0.3113, -0.3079, -0.3045,  ..., -0.1109, -0.1075, -0.1041],\n",
       "           [-0.3044, -0.3010, -0.2976,  ..., -0.1040, -0.1006, -0.0972],\n",
       "           [-0.2975, -0.2941, -0.2907,  ..., -0.0971, -0.0937, -0.0903],\n",
       "           ...,\n",
       "           [ 0.0971,  0.1005,  0.1039,  ...,  0.2976,  0.3010,  0.3044],\n",
       "           [ 0.1041,  0.1075,  0.1109,  ...,  0.3045,  0.3079,  0.3113],\n",
       "           [ 0.1110,  0.1144,  0.1178,  ...,  0.3114,  0.3148,  0.3182]],\n",
       " \n",
       "          [[-0.0527, -0.0523, -0.0518,  ..., -0.0268, -0.0263, -0.0259],\n",
       "           [-0.0524, -0.0519, -0.0515,  ..., -0.0264, -0.0259, -0.0255],\n",
       "           [-0.0520, -0.0515, -0.0511,  ..., -0.0260, -0.0256, -0.0251],\n",
       "           ...,\n",
       "           [-0.0311, -0.0307, -0.0302,  ..., -0.0051, -0.0047, -0.0043],\n",
       "           [-0.0307, -0.0303, -0.0299,  ..., -0.0048, -0.0043, -0.0039],\n",
       "           [-0.0304, -0.0299, -0.0295,  ..., -0.0044, -0.0040, -0.0035]]]], device='cuda:0'))"
      ]
     },
     "execution_count": 24,
     "metadata": {},
     "output_type": "execute_result"
    }
   ],
   "source": [
    "cc = CoordConv(1, 4).to(DEVICE)\n",
    "\n",
    "testin = dset[0].unsqueeze(0)\n",
    "out = cc(testin)\n",
    "out.shape, out"
   ]
  },
  {
   "cell_type": "markdown",
   "metadata": {},
   "source": [
    "## Block of coord convs with a residual connection"
   ]
  },
  {
   "cell_type": "code",
   "execution_count": 25,
   "metadata": {},
   "outputs": [],
   "source": [
    "%%writefile_run $models_file -a\n",
    "\n",
    "\n",
    "class CoordConvBlock(nn.Module):\n",
    "    \"\"\"One block of convolutions with a residual connection. Convolutions are 'CoordConvs'.\n",
    "    They add coordinate meshgrids to input channels.\"\"\"\n",
    "    def __init__(self, in_channels, out_channels, kernel_size=3):\n",
    "        super().__init__()\n",
    "        \n",
    "        assert kernel_size%2==1, \"kernel_size should be odd number\"\n",
    "        \n",
    "        self.cconv1 = CoordConv(in_channels, out_channels, kernel_size, padding = kernel_size//2)\n",
    "        self.cconv2 = CoordConv(out_channels, out_channels, kernel_size, padding = kernel_size//2)\n",
    "        \n",
    "        self.bn1_1 = nn.BatchNorm2d(in_channels)\n",
    "        self.bn1_2 = nn.BatchNorm2d(out_channels)\n",
    "        \n",
    "        self.bn2_1 = nn.BatchNorm2d(out_channels)\n",
    "        self.bn2_2 = nn.BatchNorm2d(out_channels)\n",
    "        \n",
    "        self.in_channels = in_channels\n",
    "        self.out_channels = out_channels\n",
    "        \n",
    "        if self.out_channels != self.in_channels:\n",
    "            self.res_cconv = CoordConv(in_channels, out_channels, kernel_size=1)\n",
    "            self.res_bn = nn.BatchNorm2d(out_channels)\n",
    "        \n",
    "    def forward(self, x):\n",
    "        residual = self.bn1_1(x)\n",
    "        \n",
    "        out = self.cconv1(x)\n",
    "        out = self.bn1_2(out)\n",
    "        out = nn.ReLU()(out)\n",
    "        \n",
    "        out = self.bn2_1(out)\n",
    "        out = self.cconv2(out)\n",
    "        out = self.bn2_2(out)\n",
    "        \n",
    "        if self.out_channels != self.in_channels:\n",
    "            residual = self.res_cconv(residual)\n",
    "            residual = self.res_bn(residual)\n",
    "        \n",
    "        out = nn.ReLU()(out+residual)\n",
    "            \n",
    "        return out"
   ]
  },
  {
   "cell_type": "code",
   "execution_count": 26,
   "metadata": {},
   "outputs": [
    {
     "name": "stdout",
     "output_type": "stream",
     "text": [
      "torch.Size([32, 1, 64, 64])\n",
      "torch.Size([32, 16, 64, 64])\n"
     ]
    }
   ],
   "source": [
    "test = nn.Sequential(\n",
    "    CoordConvBlock(1, 8),\n",
    "    CoordConvBlock(8, 16),\n",
    ").to(DEVICE)\n",
    "\n",
    "inp = next(loader)\n",
    "print(inp.shape)\n",
    "out = test(next(loader))\n",
    "print(out.shape)"
   ]
  },
  {
   "cell_type": "code",
   "execution_count": null,
   "metadata": {},
   "outputs": [],
   "source": []
  }
 ],
 "metadata": {
  "kernelspec": {
   "display_name": "Python [conda env:pytorch_py36]",
   "language": "python",
   "name": "conda-env-pytorch_py36-py"
  },
  "language_info": {
   "codemirror_mode": {
    "name": "ipython",
    "version": 3
   },
   "file_extension": ".py",
   "mimetype": "text/x-python",
   "name": "python",
   "nbconvert_exporter": "python",
   "pygments_lexer": "ipython3",
   "version": "3.6.4"
  }
 },
 "nbformat": 4,
 "nbformat_minor": 2
}
